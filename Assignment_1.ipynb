{
  "cells": [
    {
      "cell_type": "markdown",
      "metadata": {
        "id": "jXIjQHaRDXvs"
      },
      "source": [
        "1. Write a Python program to calculate the area of a rectangle given its length and width."
      ]
    },
    {
      "cell_type": "code",
      "execution_count": null,
      "metadata": {
        "colab": {
          "base_uri": "https://localhost:8080/"
        },
        "id": "qMDONueMDe4O",
        "outputId": "a0a732b8-c3a9-4c09-f489-0f147aa2cf1c"
      },
      "outputs": [
        {
          "name": "stdout",
          "output_type": "stream",
          "text": [
            "Enter length: 3.4\n",
            "Enter width: 2.8\n",
            "Area of a Rectangle is: 9.52\n"
          ]
        }
      ],
      "source": [
        "length=float(input(\"Enter length: \"))\n",
        "width=float(input(\"Enter width: \"))\n",
        "area=length*width\n",
        "print(\"Area of a Rectangle is: %.2f\"%area)"
      ]
    },
    {
      "cell_type": "markdown",
      "metadata": {
        "id": "R4DmE6CpESPQ"
      },
      "source": [
        "2. Write a program to convert miles to kilometers\n"
      ]
    },
    {
      "cell_type": "code",
      "execution_count": null,
      "metadata": {
        "colab": {
          "base_uri": "https://localhost:8080/"
        },
        "id": "SWrgs7U4ETbt",
        "outputId": "53070eec-8366-4eba-f9cd-912aad0799e2"
      },
      "outputs": [
        {
          "name": "stdout",
          "output_type": "stream",
          "text": [
            "Enter value in miles: 10\n",
            "10.0 miles is equal to 16.0934 kilometers\n"
          ]
        }
      ],
      "source": [
        "miles = float(input(\"Enter value in miles: \"))\n",
        "conversion_factor=1.60934\n",
        "kilometers=miles*conversion_factor\n",
        "print(f\"{miles} miles is equal to {kilometers} kilometers\")"
      ]
    },
    {
      "cell_type": "markdown",
      "metadata": {
        "id": "Ii99DTu4F2sJ"
      },
      "source": [
        "3. Write a function to check if a given string is a palindrome."
      ]
    },
    {
      "cell_type": "code",
      "execution_count": null,
      "metadata": {
        "colab": {
          "base_uri": "https://localhost:8080/"
        },
        "id": "xCjQJ8d_F7SY",
        "outputId": "e8250700-3c71-4e93-f499-d3ca3ae30feb"
      },
      "outputs": [
        {
          "name": "stdout",
          "output_type": "stream",
          "text": [
            "Enter string: amma\n",
            "The string is a palindrome.\n"
          ]
        }
      ],
      "source": [
        "string = input (\"Enter string: \")\n",
        "if string==string[::-1]:\n",
        "  print(\"The string is a palindrome.\" )\n",
        "else:\n",
        "  print(\"The string is not a palindrome.\")\n"
      ]
    },
    {
      "cell_type": "markdown",
      "metadata": {
        "id": "gEeQIXcMHfhi"
      },
      "source": [
        "4. Write a Python program to find the second largest element in a list.\n"
      ]
    },
    {
      "cell_type": "code",
      "execution_count": null,
      "metadata": {
        "colab": {
          "background_save": true
        },
        "id": "K8ZaQYOzHibk",
        "outputId": "4d1f0521-8735-4d92-c758-b66e2580aae4"
      },
      "outputs": [
        {
          "name": "stdout",
          "output_type": "stream",
          "text": [
            "Second largest element is: 75\n"
          ]
        }
      ],
      "source": [
        "list1 = [30, 24, 43, 2, 25, 54, 64, 75, 99]\n",
        "list2 = list(set(list1))\n",
        "list2.sort()\n",
        "print(\"Second largest element is:\", list2[-2])"
      ]
    },
    {
      "cell_type": "markdown",
      "source": [
        "5. Explain what indentation means in Python."
      ],
      "metadata": {
        "id": "8BZmEU1YGhw2"
      }
    },
    {
      "cell_type": "markdown",
      "source": [
        "In Python, indentation refers to the use of whitespace (usually spaces or tabs) at the beginning of a line to indicate the block structure of the code."
      ],
      "metadata": {
        "id": "h_LRriYXHnhr"
      }
    },
    {
      "cell_type": "markdown",
      "source": [
        "6. Write a program to perform set difference operation.\n"
      ],
      "metadata": {
        "id": "bwZWf-gqHqYt"
      }
    },
    {
      "cell_type": "code",
      "source": [
        "set1 = {1, 2, 3, 14, 5}\n",
        "set2 = {14, 5, 6, 7, 9}\n",
        "print(\"Set Difference:\", set1 - set2)"
      ],
      "metadata": {
        "colab": {
          "base_uri": "https://localhost:8080/"
        },
        "id": "UH05xkFHHx_G",
        "outputId": "bd11253c-bb60-4ea2-9ee2-8f5d2f7be03a"
      },
      "execution_count": 2,
      "outputs": [
        {
          "output_type": "stream",
          "name": "stdout",
          "text": [
            "Set Difference: {1, 2, 3}\n"
          ]
        }
      ]
    },
    {
      "cell_type": "markdown",
      "source": [
        "7. Write a Python program to print numbers from 1 to 10 using a while loop."
      ],
      "metadata": {
        "id": "oKNzPzXxIPV6"
      }
    },
    {
      "cell_type": "code",
      "source": [
        "number = 1\n",
        "while number <= 10:\n",
        "    print(number)\n",
        "    number += 1"
      ],
      "metadata": {
        "colab": {
          "base_uri": "https://localhost:8080/"
        },
        "id": "0aqaCisnISeE",
        "outputId": "bbdb46c2-f17e-4b31-ef36-e60939ee7bfe"
      },
      "execution_count": 3,
      "outputs": [
        {
          "output_type": "stream",
          "name": "stdout",
          "text": [
            "1\n",
            "2\n",
            "3\n",
            "4\n",
            "5\n",
            "6\n",
            "7\n",
            "8\n",
            "9\n",
            "10\n"
          ]
        }
      ]
    },
    {
      "cell_type": "markdown",
      "source": [
        "8. Write a program to calculate the factorial of a number using a while loop."
      ],
      "metadata": {
        "id": "mKIC3tokJ2Q4"
      }
    },
    {
      "cell_type": "code",
      "source": [
        "def factorial(n):\n",
        "    fact = 1\n",
        "    while n > 0:\n",
        "        fact *= n\n",
        "        n -= 1\n",
        "    return fact\n",
        "\n",
        "\n",
        "num = int(input(\"Enter a number: \"))\n",
        "if num < 0:\n",
        "    print(\"Factorial is not defined for negative numbers.\")\n",
        "else:\n",
        "    print(\"Factorial of\", num, \"is\", factorial(num))"
      ],
      "metadata": {
        "colab": {
          "base_uri": "https://localhost:8080/"
        },
        "id": "arZoxzKnJ6Jj",
        "outputId": "aa9b9fe4-80e6-464a-acdd-362d0a04cf80"
      },
      "execution_count": 4,
      "outputs": [
        {
          "output_type": "stream",
          "name": "stdout",
          "text": [
            "Enter a number: 3\n",
            "Factorial of 3 is 6\n"
          ]
        }
      ]
    },
    {
      "cell_type": "markdown",
      "source": [
        "9. Write a Python program to check if a number is positive, negative, or zero using if-elif-else\n",
        "statements."
      ],
      "metadata": {
        "id": "JqtRHuLhKUlV"
      }
    },
    {
      "cell_type": "code",
      "source": [
        "number= int(input(\"Enter a number: \"))\n",
        "if number>0:\n",
        "  print(\"The number is positive.\")\n",
        "elif number<0:\n",
        "  print(\"The number is negative.\")\n",
        "else:\n",
        "  print(\"The number is zero.\")"
      ],
      "metadata": {
        "colab": {
          "base_uri": "https://localhost:8080/"
        },
        "id": "ErU7GN29KX_L",
        "outputId": "fbb9237d-776a-4c2a-8684-2b61a82ea8de"
      },
      "execution_count": 6,
      "outputs": [
        {
          "output_type": "stream",
          "name": "stdout",
          "text": [
            "Enter a number: -36\n",
            "The number is negative.\n"
          ]
        }
      ]
    },
    {
      "cell_type": "markdown",
      "source": [
        "10. Write a program to determine the largest among three numbers using conditional\n",
        "statements."
      ],
      "metadata": {
        "id": "WzXZjJtyK2w4"
      }
    },
    {
      "cell_type": "code",
      "source": [
        "num1 =float(input(\"Enter the first number: \"))\n",
        "num2 =float(input(\"Enter the second number: \"))\n",
        "num3 =float(input(\"Enter the third number: \"))\n",
        "if num1>num2 and num1>num3:\n",
        "  largest=num1\n",
        "elif num2>num1 and num2>num3:\n",
        "  largest=num2\n",
        "else:\n",
        "  largest=num3\n",
        "print(\"The largest number among\", num1, \",\", num2, \", and\", num3, \"is\", largest)"
      ],
      "metadata": {
        "colab": {
          "base_uri": "https://localhost:8080/"
        },
        "id": "YtrWVXTJK5iA",
        "outputId": "2262bd4e-d76f-47ac-acfe-ebd914c3cf2f"
      },
      "execution_count": 8,
      "outputs": [
        {
          "output_type": "stream",
          "name": "stdout",
          "text": [
            "Enter the first number: 3.4\n",
            "Enter the second number: 8.2\n",
            "Enter the third number: 1.4\n",
            "The largest number among 3.4 , 8.2 , and 1.4 is 8.2\n"
          ]
        }
      ]
    },
    {
      "cell_type": "markdown",
      "source": [
        "11. Write a Python program to create a numpy array filled with ones of given shape"
      ],
      "metadata": {
        "id": "yGc_9vNWMGX1"
      }
    },
    {
      "cell_type": "code",
      "source": [
        "import numpy as np\n",
        "\n",
        "def create_ones_array(shape):\n",
        "    ones_array = np.ones(shape)\n",
        "    return ones_array\n",
        "\n",
        "rows = int(input(\"Enter the number of rows: \"))\n",
        "cols = int(input(\"Enter the number of columns: \"))\n",
        "\n",
        "\n",
        "ones_array = create_ones_array((rows, cols))\n",
        "\n",
        "\n",
        "print(\"NumPy array filled with ones of shape\", ones_array.shape, \":\\n\", ones_array)"
      ],
      "metadata": {
        "colab": {
          "base_uri": "https://localhost:8080/"
        },
        "id": "rLm1ph8mMLEY",
        "outputId": "eaa4f2f9-9a12-4989-bccd-ae4d3d4254fd"
      },
      "execution_count": 9,
      "outputs": [
        {
          "output_type": "stream",
          "name": "stdout",
          "text": [
            "Enter the number of rows: 3\n",
            "Enter the number of columns: 5\n",
            "NumPy array filled with ones of shape (3, 5) :\n",
            " [[1. 1. 1. 1. 1.]\n",
            " [1. 1. 1. 1. 1.]\n",
            " [1. 1. 1. 1. 1.]]\n"
          ]
        }
      ]
    },
    {
      "cell_type": "markdown",
      "source": [
        "12. Write a program to create a 2D numpy array initialized with random integers."
      ],
      "metadata": {
        "id": "kr9krAHtMteR"
      }
    },
    {
      "cell_type": "code",
      "source": [
        "import numpy as np\n",
        "\n",
        "def random_array(rows, cols, low, high):\n",
        "    array = np.random.randint(low, high, size=(rows, cols))\n",
        "    return array\n",
        "\n",
        "rows = int(input(\"Enter the number of rows: \"))\n",
        "cols = int(input(\"Enter the number of columns: \"))\n",
        "low = int(input(\"Enter the lower bound of the range: \"))\n",
        "high = int(input(\"Enter the upper bound of the range: \"))\n",
        "\n",
        "random_array = random_array(rows, cols, low, high)\n",
        "print(\"2D NumPy array initialized with random integers:\\n\", random_array)"
      ],
      "metadata": {
        "colab": {
          "base_uri": "https://localhost:8080/"
        },
        "id": "LHnfz0pFMwWr",
        "outputId": "de9d1ef2-8569-4a4b-8732-cfba02f46622"
      },
      "execution_count": 13,
      "outputs": [
        {
          "output_type": "stream",
          "name": "stdout",
          "text": [
            "Enter the number of rows: 5\n",
            "Enter the number of columns: 6\n",
            "Enter the lower bound of the range: 2\n",
            "Enter the upper bound of the range: 8\n",
            "2D NumPy array initialized with random integers:\n",
            " [[5 7 5 2 6 2]\n",
            " [4 3 5 2 7 5]\n",
            " [5 6 5 2 6 2]\n",
            " [4 2 6 6 3 3]\n",
            " [2 5 5 3 7 7]]\n"
          ]
        }
      ]
    },
    {
      "cell_type": "markdown",
      "source": [
        "13. Write a Python program to generate an array of evenly spaced numbers over a specified\n",
        "range using linspace."
      ],
      "metadata": {
        "id": "9XO1GPpgO4pv"
      }
    },
    {
      "cell_type": "code",
      "source": [
        "import numpy as np\n",
        "\n",
        "start = float(input(\"Enter the start of the range: \"))\n",
        "stop = float(input(\"Enter the end of the range: \"))\n",
        "num = int(input(\"Enter the number of evenly spaced numbers: \"))\n",
        "\n",
        "evenly_spaced_array = np.linspace(start, stop, num)\n",
        "\n",
        "print(\"Array of evenly spaced numbers over the range [{}, {}]:\\n{}\".format(start, stop, evenly_spaced_array))"
      ],
      "metadata": {
        "colab": {
          "base_uri": "https://localhost:8080/"
        },
        "id": "SHQyPnojPIZN",
        "outputId": "773a3192-4cbb-48db-c1b2-c2157fb076ab"
      },
      "execution_count": 14,
      "outputs": [
        {
          "output_type": "stream",
          "name": "stdout",
          "text": [
            "Enter the start of the range: 2\n",
            "Enter the end of the range: 3\n",
            "Enter the number of evenly spaced numbers: 5\n",
            "Array of evenly spaced numbers over the range [2.0, 3.0]:\n",
            "[2.   2.25 2.5  2.75 3.  ]\n"
          ]
        }
      ]
    },
    {
      "cell_type": "markdown",
      "source": [
        "14. Write a program to generate an array of 10 equally spaced values between 1 and 100 using\n",
        "linspace."
      ],
      "metadata": {
        "id": "BwDc2mlLPnaH"
      }
    },
    {
      "cell_type": "code",
      "source": [
        "import numpy as np\n",
        "\n",
        "equally_spaced_array = np.linspace(1, 100, 10)\n",
        "\n",
        "print(\"Array of 10 equally spaced values between 1 and 100:\\n\", equally_spaced_array)"
      ],
      "metadata": {
        "colab": {
          "base_uri": "https://localhost:8080/"
        },
        "id": "Iv-bx01KP0UW",
        "outputId": "d7254e06-6333-4538-efa0-ce204e28cc07"
      },
      "execution_count": 15,
      "outputs": [
        {
          "output_type": "stream",
          "name": "stdout",
          "text": [
            "Array of 10 equally spaced values between 1 and 100:\n",
            " [  1.  12.  23.  34.  45.  56.  67.  78.  89. 100.]\n"
          ]
        }
      ]
    },
    {
      "cell_type": "markdown",
      "source": [
        "15. Write a Python program to create an array containing even numbers from 2 to 20 using\n",
        "arange."
      ],
      "metadata": {
        "id": "GQMHoclMRjyW"
      }
    },
    {
      "cell_type": "code",
      "source": [
        "import numpy as np\n",
        "\n",
        "even_numbers_array = np.arange(2, 21, 2)\n",
        "\n",
        "print(\"Array of even numbers from 2 to 20:\\n\", even_numbers_array)"
      ],
      "metadata": {
        "colab": {
          "base_uri": "https://localhost:8080/"
        },
        "id": "T9zaYU5fRkxi",
        "outputId": "fbdd0dd4-8c2e-4224-f8b5-435650f6bed9"
      },
      "execution_count": 16,
      "outputs": [
        {
          "output_type": "stream",
          "name": "stdout",
          "text": [
            "Array of even numbers from 2 to 20:\n",
            " [ 2  4  6  8 10 12 14 16 18 20]\n"
          ]
        }
      ]
    },
    {
      "cell_type": "markdown",
      "source": [
        "16. Write a program to create an array containing numbers from 1 to 10 with a step size of 0.5\n",
        "using arange."
      ],
      "metadata": {
        "id": "OLBKFcLBRwDs"
      }
    },
    {
      "cell_type": "code",
      "source": [
        "import numpy as np\n",
        "\n",
        "array_with_step = np.arange(1, 10.5, 0.5)\n",
        "\n",
        "print(\"Array containing numbers from 1 to 10 with a step size of 0.5:\\n\", array_with_step)\n"
      ],
      "metadata": {
        "colab": {
          "base_uri": "https://localhost:8080/"
        },
        "id": "3-dSr1p5RwtE",
        "outputId": "b76d3a90-984b-4e5f-87bd-789b953e1a08"
      },
      "execution_count": 17,
      "outputs": [
        {
          "output_type": "stream",
          "name": "stdout",
          "text": [
            "Array containing numbers from 1 to 10 with a step size of 0.5:\n",
            " [ 1.   1.5  2.   2.5  3.   3.5  4.   4.5  5.   5.5  6.   6.5  7.   7.5\n",
            "  8.   8.5  9.   9.5 10. ]\n"
          ]
        }
      ]
    }
  ],
  "metadata": {
    "colab": {
      "provenance": []
    },
    "kernelspec": {
      "display_name": "Python 3",
      "name": "python3"
    },
    "language_info": {
      "name": "python"
    }
  },
  "nbformat": 4,
  "nbformat_minor": 0
}